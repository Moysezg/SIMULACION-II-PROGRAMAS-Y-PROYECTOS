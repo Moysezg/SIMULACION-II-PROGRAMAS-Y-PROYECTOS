{
  "nbformat": 4,
  "nbformat_minor": 0,
  "metadata": {
    "colab": {
      "provenance": [],
      "authorship_tag": "ABX9TyPJ6dEiSMGc/9UuRGBexgwJ",
      "include_colab_link": true
    },
    "kernelspec": {
      "name": "python3",
      "display_name": "Python 3"
    },
    "language_info": {
      "name": "python"
    }
  },
  "cells": [
    {
      "cell_type": "markdown",
      "metadata": {
        "id": "view-in-github",
        "colab_type": "text"
      },
      "source": [
        "<a href=\"https://colab.research.google.com/github/Moysezg/SIMULACION-II-PROGRAMAS-Y-PROYECTOS/blob/main/One.hot%20RLM%20.ipynb\" target=\"_parent\"><img src=\"https://colab.research.google.com/assets/colab-badge.svg\" alt=\"Open In Colab\"/></a>"
      ]
    },
    {
      "cell_type": "code",
      "execution_count": 24,
      "metadata": {
        "colab": {
          "base_uri": "https://localhost:8080/"
        },
        "id": "GNXwRWVzO4Qe",
        "outputId": "4d29d042-3d5b-4c2d-f254-57b88da30280"
      },
      "outputs": [
        {
          "output_type": "stream",
          "name": "stdout",
          "text": [
            "Requirement already satisfied: pandas in /usr/local/lib/python3.10/dist-packages (2.0.3)\n",
            "Requirement already satisfied: openpyxl in /usr/local/lib/python3.10/dist-packages (3.1.2)\n",
            "Requirement already satisfied: python-dateutil>=2.8.2 in /usr/local/lib/python3.10/dist-packages (from pandas) (2.8.2)\n",
            "Requirement already satisfied: pytz>=2020.1 in /usr/local/lib/python3.10/dist-packages (from pandas) (2023.4)\n",
            "Requirement already satisfied: tzdata>=2022.1 in /usr/local/lib/python3.10/dist-packages (from pandas) (2024.1)\n",
            "Requirement already satisfied: numpy>=1.21.0 in /usr/local/lib/python3.10/dist-packages (from pandas) (1.25.2)\n",
            "Requirement already satisfied: et-xmlfile in /usr/local/lib/python3.10/dist-packages (from openpyxl) (1.1.0)\n",
            "Requirement already satisfied: six>=1.5 in /usr/local/lib/python3.10/dist-packages (from python-dateutil>=2.8.2->pandas) (1.16.0)\n"
          ]
        }
      ],
      "source": [
        "pip install pandas openpyxl"
      ]
    },
    {
      "cell_type": "code",
      "source": [
        "import pandas as pd\n",
        "import numpy as np\n",
        "import xlrd\n",
        "import seaborn as sns\n",
        "import matplotlib.pyplot as plt\n",
        "from matplotlib.ticker import PercentFormatter\n"
      ],
      "metadata": {
        "id": "KaTr2s2hUkkf"
      },
      "execution_count": 25,
      "outputs": []
    },
    {
      "cell_type": "code",
      "source": [
        "from google.colab import drive\n",
        "\n",
        "# Montar Google Drive\n",
        "drive.mount('/content/drive')\n",
        "\n"
      ],
      "metadata": {
        "colab": {
          "base_uri": "https://localhost:8080/"
        },
        "id": "5LCKyB-ba6Eg",
        "outputId": "04e1573b-4dc5-48a1-bab2-d1b5f7d5ff1d"
      },
      "execution_count": 26,
      "outputs": [
        {
          "output_type": "stream",
          "name": "stdout",
          "text": [
            "Drive already mounted at /content/drive; to attempt to forcibly remount, call drive.mount(\"/content/drive\", force_remount=True).\n"
          ]
        }
      ]
    },
    {
      "cell_type": "code",
      "source": [
        "from google.colab import files\n",
        "from google.colab import drive\n",
        "\n",
        "# Montar Google Drive\n",
        "drive.mount('/content/drive')\n",
        "\n",
        "\n"
      ],
      "metadata": {
        "colab": {
          "base_uri": "https://localhost:8080/"
        },
        "id": "XPE5EJGccMKw",
        "outputId": "f7677b35-5f8f-4bec-c7d8-5c664eec6a6e"
      },
      "execution_count": 27,
      "outputs": [
        {
          "output_type": "stream",
          "name": "stdout",
          "text": [
            "Drive already mounted at /content/drive; to attempt to forcibly remount, call drive.mount(\"/content/drive\", force_remount=True).\n"
          ]
        }
      ]
    },
    {
      "cell_type": "code",
      "source": [
        "import pandas as pd\n",
        "\n",
        "# Leer el archivo Excel desde Google Drive (asegúrate de haber montado Google Drive primero)\n",
        "ruta_archivo = '/content/drive/MyDrive/BASE DE DATOS CDMX.xlsx'\n",
        "df = pd.read_excel(ruta_archivo)\n",
        "\n",
        "# Obtener la forma del DataFrame\n",
        "forma_df = df.shape\n",
        "\n",
        "\n",
        "print(\"Forma del DataFrame:\")\n",
        "print(forma_df)\n"
      ],
      "metadata": {
        "colab": {
          "base_uri": "https://localhost:8080/"
        },
        "id": "VskH_W1ide7u",
        "outputId": "a44e22e9-a9c0-4b6f-ac27-65fbaadc1c3d"
      },
      "execution_count": 28,
      "outputs": [
        {
          "output_type": "stream",
          "name": "stdout",
          "text": [
            "Forma del DataFrame:\n",
            "(1070, 18)\n"
          ]
        }
      ]
    },
    {
      "cell_type": "code",
      "source": [
        "# Mostrar los primeros cinco renglones del DataFrame\n",
        "primeros_renglones = df.head()\n",
        "\n",
        "print(\"Primeros cinco renglones del DataFrame:\")\n",
        "print(primeros_renglones)"
      ],
      "metadata": {
        "colab": {
          "base_uri": "https://localhost:8080/"
        },
        "id": "_67Zq5VDemRJ",
        "outputId": "0bf7a219-cfb8-49a0-927b-4451a96b3020"
      },
      "execution_count": 29,
      "outputs": [
        {
          "output_type": "stream",
          "name": "stdout",
          "text": [
            "Primeros cinco renglones del DataFrame:\n",
            "       PRECIO    ALCALDIA   SUPERFICIE CUARTOS   BANOS ESTACIONAMIENTO  \\\n",
            "0   3,900,000  IZTAPALAPA  100 m² tot.  3 rec.  1 baño        1 estac.   \n",
            "1   1,985,000  IZTAPALAPA  111 m² tot.  2 rec.  1 baño         0 estac   \n",
            "2   1,600,000  IZTAPALAPA  120 m² tot.  2 rec.  1 baño         0 estac   \n",
            "3   2,800,000  IZTAPALAPA  152 m² tot.  3 rec.  1 baño        1 estac.   \n",
            "4     1300000  IZTAPALAPA  170 m² tot.  2 rec.  1 baño        1 estac.   \n",
            "\n",
            "                                                 URL  Unnamed: 7  Unnamed: 8  \\\n",
            "0  https://www.inmuebles24.com/propiedades/clasif...         NaN         NaN   \n",
            "1  https://www.inmuebles24.com/propiedades/clasif...         NaN         NaN   \n",
            "2  https://www.inmuebles24.com/propiedades/clasif...         NaN         NaN   \n",
            "3  https://www.inmuebles24.com/propiedades/clasif...         NaN         NaN   \n",
            "4  https://www.inmuebles24.com/propiedades/clasif...         NaN         NaN   \n",
            "\n",
            "   Unnamed: 9  Unnamed: 10  Unnamed: 11  Unnamed: 12  Unnamed: 13  \\\n",
            "0         NaN          NaN          NaN          NaN          NaN   \n",
            "1         NaN          NaN          NaN          NaN          NaN   \n",
            "2         NaN          NaN          NaN          NaN          NaN   \n",
            "3         NaN          NaN          NaN          NaN          NaN   \n",
            "4         NaN          NaN          NaN          NaN          NaN   \n",
            "\n",
            "   Unnamed: 14  Unnamed: 15  Unnamed: 16  Unnamed: 17  \n",
            "0          NaN          NaN          NaN            1  \n",
            "1          NaN          NaN          NaN            2  \n",
            "2          NaN          NaN          NaN            3  \n",
            "3          NaN          NaN          NaN            4  \n",
            "4          NaN          NaN          NaN            5  \n"
          ]
        }
      ]
    },
    {
      "cell_type": "code",
      "source": [
        "import pandas as pd\n",
        "\n",
        "# Leer el archivo Excel desde Google Drive\n",
        "ruta_archivo = '/content/drive/MyDrive/BASE DE DATOS CDMX.xlsx'\n",
        "df = pd.read_excel(ruta_archivo)\n",
        "\n",
        "# Aplicar la codificación one-hot a la columna 'ALCALDIA'\n",
        "df_codificado = pd.get_dummies(df, columns=['ALCALDIA'])\n",
        "\n",
        "# Mostrar los primeros registros del DataFrame codificado\n",
        "print(\"\\nDatos codificados:\")\n",
        "print(df_codificado.head())\n"
      ],
      "metadata": {
        "colab": {
          "base_uri": "https://localhost:8080/"
        },
        "id": "OE4sTYHifEoq",
        "outputId": "34d1c0d0-2248-42d7-bd8b-63f9f1c202de"
      },
      "execution_count": 30,
      "outputs": [
        {
          "output_type": "stream",
          "name": "stdout",
          "text": [
            "\n",
            "Datos codificados:\n",
            "       PRECIO   SUPERFICIE CUARTOS   BANOS ESTACIONAMIENTO  \\\n",
            "0   3,900,000  100 m² tot.  3 rec.  1 baño        1 estac.   \n",
            "1   1,985,000  111 m² tot.  2 rec.  1 baño         0 estac   \n",
            "2   1,600,000  120 m² tot.  2 rec.  1 baño         0 estac   \n",
            "3   2,800,000  152 m² tot.  3 rec.  1 baño        1 estac.   \n",
            "4     1300000  170 m² tot.  2 rec.  1 baño        1 estac.   \n",
            "\n",
            "                                                 URL  Unnamed: 7  Unnamed: 8  \\\n",
            "0  https://www.inmuebles24.com/propiedades/clasif...         NaN         NaN   \n",
            "1  https://www.inmuebles24.com/propiedades/clasif...         NaN         NaN   \n",
            "2  https://www.inmuebles24.com/propiedades/clasif...         NaN         NaN   \n",
            "3  https://www.inmuebles24.com/propiedades/clasif...         NaN         NaN   \n",
            "4  https://www.inmuebles24.com/propiedades/clasif...         NaN         NaN   \n",
            "\n",
            "   Unnamed: 9  Unnamed: 10  ...  Unnamed: 13  Unnamed: 14  Unnamed: 15  \\\n",
            "0         NaN          NaN  ...          NaN          NaN          NaN   \n",
            "1         NaN          NaN  ...          NaN          NaN          NaN   \n",
            "2         NaN          NaN  ...          NaN          NaN          NaN   \n",
            "3         NaN          NaN  ...          NaN          NaN          NaN   \n",
            "4         NaN          NaN  ...          NaN          NaN          NaN   \n",
            "\n",
            "   Unnamed: 16  Unnamed: 17  ALCALDIA_BENITO JUAREZ  ALCALDIA_CUAUTHEMOC  \\\n",
            "0          NaN            1                   False                False   \n",
            "1          NaN            2                   False                False   \n",
            "2          NaN            3                   False                False   \n",
            "3          NaN            4                   False                False   \n",
            "4          NaN            5                   False                False   \n",
            "\n",
            "   ALCALDIA_GUSTAVO A. MADERO  ALCALDIA_IZTAPALAPA  ALCALDIA_MIGUEL HIDALGO  \n",
            "0                       False                 True                    False  \n",
            "1                       False                 True                    False  \n",
            "2                       False                 True                    False  \n",
            "3                       False                 True                    False  \n",
            "4                       False                 True                    False  \n",
            "\n",
            "[5 rows x 22 columns]\n"
          ]
        }
      ]
    },
    {
      "cell_type": "code",
      "source": [
        "import pandas as pd\n",
        "\n",
        "# Leer el archivo Excel desde Google Drive\n",
        "ruta_archivo = '/content/drive/MyDrive/BASE DE DATOS CDMX.xlsx'\n",
        "df = pd.read_excel(ruta_archivo)\n",
        "\n",
        "# Aplicar la codificación one-hot a la columna 'ALCALDIA'\n",
        "df_codificado = pd.get_dummies(df, columns=['ALCALDIA'])\n",
        "\n",
        "# Especificar la ruta y el nombre del nuevo archivo Excel\n",
        "ruta_nuevo_excel = '/content/drive/MyDrive/BASE DE DATOS CDMX_Codificado.xlsx'\n",
        "\n",
        "# Guardar el DataFrame codificado en un nuevo archivo Excel\n",
        "df_codificado.to_excel(ruta_nuevo_excel, index=False)\n",
        "\n",
        "print(f\"DataFrame codificado guardado en: {ruta_nuevo_excel}\")\n"
      ],
      "metadata": {
        "colab": {
          "base_uri": "https://localhost:8080/"
        },
        "id": "tbqUEAD2gDfY",
        "outputId": "8e810e65-720a-406d-c352-9e2a3f6be602"
      },
      "execution_count": 31,
      "outputs": [
        {
          "output_type": "stream",
          "name": "stdout",
          "text": [
            "DataFrame codificado guardado en: /content/drive/MyDrive/BASE DE DATOS CDMX_Codificado.xlsx\n"
          ]
        }
      ]
    },
    {
      "cell_type": "code",
      "source": [],
      "metadata": {
        "id": "5kl8pnz6a49o"
      },
      "execution_count": null,
      "outputs": []
    }
  ]
}